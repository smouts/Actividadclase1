{
 "cells": [
  {
   "cell_type": "code",
   "execution_count": null,
   "metadata": {},
   "outputs": [],
   "source": [
    "def ejercicio1():\n",
    "    edad = int(input(\"Inserte edad: \"))\n",
    "    if edad >= 18:\n",
    "        return \"Puede tomar cerveza\"\n",
    "    else:\n",
    "        return \"No puede tomar cerveza\" "
   ]
  },
  {
   "cell_type": "code",
   "execution_count": null,
   "metadata": {},
   "outputs": [],
   "source": [
    "def ejercicio1_1(edad : int):\n",
    "    # = int(input(\"Inserte edad: \"))\n",
    "    if edad >= 18:\n",
    "        return \"Puede tomar cerveza\"\n",
    "    else:\n",
    "        return \"No puede tomar cerveza\" "
   ]
  },
  {
   "cell_type": "code",
   "execution_count": null,
   "metadata": {},
   "outputs": [],
   "source": [
    "print(ejercicio1_1(18))"
   ]
  },
  {
   "cell_type": "code",
   "execution_count": null,
   "metadata": {},
   "outputs": [],
   "source": [
    "marca = input(\"Inserte marca de cerveza: \")\n",
    "if marca.lower() == \"budweiser\": #Lower se utiliza para pasa la informacion a minuscula\n",
    "    print(\"Comprar\", marca)\n",
    "elif marca.lower() == 'aguila':\n",
    "    print(\"Comprar\", marca)\n",
    "else:\n",
    "    print(\"No comprar nada\")"
   ]
  },
  {
   "cell_type": "code",
   "execution_count": null,
   "metadata": {},
   "outputs": [],
   "source": [
    "giro = input(\"Inserte carrera: \")\n",
    "if giro == \"carrera 9\":\n",
    "    print(\"Girar en la carrera 9\")\n",
    "if giro == \"carrera 10\":\n",
    "    print(\"Girar en la carrera 10\")\n",
    "if giro == \"carrera 11\":\n",
    "    print(\"Girar en la carrera 11\")"
   ]
  },
  {
   "cell_type": "code",
   "execution_count": null,
   "metadata": {},
   "outputs": [],
   "source": [
    "a = float(input(\"Inserte numero a: \"))\n",
    "b = float(input(\"Inserte numero b: \"))\n",
    "opc = input(\"Inserte la operacion: \")\n",
    "\n",
    "if opc == '+':\n",
    "    c = a + b\n",
    "    print(c)\n",
    "if opc == '-':\n",
    "    c = a - b\n",
    "    print(c)\n",
    "if opc == '*':\n",
    "    c = a * b\n",
    "    print(c)\n",
    "if opc == '/':\n",
    "    if b!= 0 :\n",
    "        c = a / b\n",
    "        print(c)\n",
    "    else:\n",
    "        print(\"error\")"
   ]
  },
  {
   "cell_type": "code",
   "execution_count": null,
   "metadata": {},
   "outputs": [],
   "source": []
  }
 ],
 "metadata": {
  "kernelspec": {
   "display_name": "Python 3",
   "language": "python",
   "name": "python3"
  },
  "language_info": {
   "codemirror_mode": {
    "name": "ipython",
    "version": 3
   },
   "file_extension": ".py",
   "mimetype": "text/x-python",
   "name": "python",
   "nbconvert_exporter": "python",
   "pygments_lexer": "ipython3",
   "version": "3.8.3"
  }
 },
 "nbformat": 4,
 "nbformat_minor": 4
}
